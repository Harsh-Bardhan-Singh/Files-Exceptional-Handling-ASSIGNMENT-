{
 "cells": [
  {
   "cell_type": "code",
   "execution_count": null,
   "id": "e623837e-0b4b-4818-8f71-b60cc020c93f",
   "metadata": {},
   "outputs": [],
   "source": [
    "#4. Write a Python program using multithreading where one thread adds numbers to a list, and another thread removes numbers from the list. Implement a mechanism to avoid race conditions using threading.Lock.\n",
    "import threading\n",
    "import time\n",
    "\n",
    "# Shared list and lock\n",
    "shared_list = []\n",
    "lock = threading.Lock()\n",
    "\n",
    "# Function for adding numbers to the list\n",
    "def add_to_list():\n",
    "    for i in range(1, 6):\n",
    "        with lock:\n",
    "            shared_list.append(i)\n",
    "            print(f\"Added {i} to the list.\")\n",
    "        time.sleep(1)  # Simulate some delay\n",
    "\n",
    "# Function for removing numbers from the list\n",
    "def remove_from_list():\n",
    "    for i in range(1, 6):\n",
    "        time.sleep(1.5)  # Slightly longer delay to allow adding first\n",
    "        with lock:\n",
    "            if shared_list:\n",
    "                removed_item = shared_list.pop(0)\n",
    "                print(f\"Removed {removed_item} from the list.\")\n",
    "            else:\n",
    "                print(\"List is empty, nothing to remove.\")\n",
    "\n",
    "# Creating threads\n",
    "thread1 = threading.Thread(target=add_to_list)\n",
    "thread2 = threading.Thread(target=remove_from_list)\n",
    "\n",
    "# Starting threads\n",
    "thread1.start()\n",
    "thread2.start()\n",
    "\n",
    "# Wait for both threads to complete\n",
    "thread1.join()\n",
    "thread2.join()\n",
    "\n",
    "print(\"Final list:\", shared_list)"
   ]
  }
 ],
 "metadata": {
  "kernelspec": {
   "display_name": "Python 3 (ipykernel)",
   "language": "python",
   "name": "python3"
  },
  "language_info": {
   "codemirror_mode": {
    "name": "ipython",
    "version": 3
   },
   "file_extension": ".py",
   "mimetype": "text/x-python",
   "name": "python",
   "nbconvert_exporter": "python",
   "pygments_lexer": "ipython3",
   "version": "3.10.8"
  }
 },
 "nbformat": 4,
 "nbformat_minor": 5
}
