{
 "cells": [
  {
   "cell_type": "code",
   "execution_count": null,
   "id": "dea1ae00-c820-420c-83b2-025cfe8cb364",
   "metadata": {},
   "outputs": [],
   "source": [
    "#8. Create a Python program that uses multiprocessing.Pool to compute the square of numbers from 1 to 10 in parallel. Measure the time taken to perform this computation using a pool of different sizes (e.g., 2, 4, 8 processes).\n",
    "import multiprocessing\n",
    "import time\n",
    "\n",
    "# Function to calculate the square of a number\n",
    "def calculate_square(n):\n",
    "    return n * n\n",
    "\n",
    "# List of numbers to compute squares for\n",
    "numbers = list(range(1, 11))\n",
    "\n",
    "# Function to measure time taken for multiprocessing pool of a given size\n",
    "def compute_with_pool_size(pool_size):\n",
    "    start_time = time.time()\n",
    "    \n",
    "    # Create a pool with the specified number of processes\n",
    "    with multiprocessing.Pool(pool_size) as pool:\n",
    "        # Compute the square of the numbers in parallel\n",
    "        results = pool.map(calculate_square, numbers)\n",
    "    \n",
    "    end_time = time.time()\n",
    "    \n",
    "    print(f\"Pool size {pool_size}: Results = {results}, Time taken = {end_time - start_time:.4f} seconds\")\n",
    "\n",
    "# Measure time for different pool sizes\n",
    "for pool_size in [2, 4, 8]:\n",
    "    compute_with_pool_size(pool_size)"
   ]
  }
 ],
 "metadata": {
  "kernelspec": {
   "display_name": "Python 3 (ipykernel)",
   "language": "python",
   "name": "python3"
  },
  "language_info": {
   "codemirror_mode": {
    "name": "ipython",
    "version": 3
   },
   "file_extension": ".py",
   "mimetype": "text/x-python",
   "name": "python",
   "nbconvert_exporter": "python",
   "pygments_lexer": "ipython3",
   "version": "3.10.8"
  }
 },
 "nbformat": 4,
 "nbformat_minor": 5
}
