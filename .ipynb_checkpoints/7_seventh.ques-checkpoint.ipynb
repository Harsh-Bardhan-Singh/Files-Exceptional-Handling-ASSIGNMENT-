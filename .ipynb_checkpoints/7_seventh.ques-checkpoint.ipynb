{
 "cells": [
  {
   "cell_type": "code",
   "execution_count": null,
   "id": "7adbc91e-15a6-4166-abbd-81f0a52fea70",
   "metadata": {},
   "outputs": [],
   "source": [
    "#7. Create a program that uses a thread pool to calculate the factorial of numbers from 1 to 10 concurrently. Use concurrent.futures.ThreadPoolExecutor to manage the threads.\n",
    "import concurrent.futures\n",
    "import math\n",
    "\n",
    "# Function to calculate factorial\n",
    "def calculate_factorial(n):\n",
    "    print(f\"Calculating factorial of {n}\")\n",
    "    return math.factorial(n)\n",
    "\n",
    "# List of numbers to calculate factorial for\n",
    "numbers = list(range(1, 11))\n",
    "\n",
    "# Use ThreadPoolExecutor to manage the threads\n",
    "with concurrent.futures.ThreadPoolExecutor() as executor:\n",
    "    # Submit tasks to the thread pool and get results\n",
    "    results = executor.map(calculate_factorial, numbers)\n",
    "\n",
    "# Print the results\n",
    "for number, result in zip(numbers, results):\n",
    "    print(f\"Factorial of {number} is {result}\")"
   ]
  }
 ],
 "metadata": {
  "kernelspec": {
   "display_name": "Python 3 (ipykernel)",
   "language": "python",
   "name": "python3"
  },
  "language_info": {
   "codemirror_mode": {
    "name": "ipython",
    "version": 3
   },
   "file_extension": ".py",
   "mimetype": "text/x-python",
   "name": "python",
   "nbconvert_exporter": "python",
   "pygments_lexer": "ipython3",
   "version": "3.10.8"
  }
 },
 "nbformat": 4,
 "nbformat_minor": 5
}
